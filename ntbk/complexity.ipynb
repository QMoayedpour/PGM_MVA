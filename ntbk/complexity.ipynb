{
 "cells": [
  {
   "cell_type": "code",
   "execution_count": null,
   "metadata": {},
   "outputs": [],
   "source": [
    "from src.mixturemodel import MixtureModel\n",
    "from src.sbm import MySbmFromScratch\n",
    "import pandas as pd"
   ]
  },
  {
   "cell_type": "code",
   "execution_count": 12,
   "metadata": {},
   "outputs": [],
   "source": [
    "list_n = [100, 500, 1000]\n",
    "\n",
    "list_K = [3, 7, 15]"
   ]
  },
  {
   "cell_type": "code",
   "execution_count": 13,
   "metadata": {},
   "outputs": [
    {
     "name": "stderr",
     "output_type": "stream",
     "text": [
      "100%|██████████| 50/50 [00:01<00:00, 38.35it/s]\n",
      "100%|██████████| 50/50 [00:01<00:00, 41.11it/s]\n",
      "100%|██████████| 50/50 [00:01<00:00, 35.11it/s]\n",
      "100%|██████████| 50/50 [00:01<00:00, 31.80it/s]\n",
      "100%|██████████| 50/50 [00:05<00:00,  8.76it/s]\n",
      "100%|██████████| 50/50 [00:24<00:00,  2.05it/s]\n",
      "100%|██████████| 50/50 [00:06<00:00,  7.22it/s]\n",
      "100%|██████████| 50/50 [00:31<00:00,  1.61it/s]\n",
      "100%|██████████| 50/50 [01:35<00:00,  1.92s/it]\n"
     ]
    }
   ],
   "source": [
    "all_res = {}\n",
    "\n",
    "for n in list_n:\n",
    "    all_res[n] = []\n",
    "    for k in list_K:\n",
    "        sbm = MySbmFromScratch()\n",
    "\n",
    "        sbm.generate_graph(N=n, K=k, _lambda=0.5, multiplier=0.5, alpha=1)\n",
    "        model = MixtureModel(sbm.adj, sbm.adj.shape[0], k, device=\"cuda\")\n",
    "        _ = model.em(tolerance=0, max_it_fp=50)\n",
    "        all_res[n].append(model.time_passed)\n",
    "        "
   ]
  },
  {
   "cell_type": "code",
   "execution_count": 18,
   "metadata": {},
   "outputs": [
    {
     "data": {
      "text/html": [
       "<div>\n",
       "<style scoped>\n",
       "    .dataframe tbody tr th:only-of-type {\n",
       "        vertical-align: middle;\n",
       "    }\n",
       "\n",
       "    .dataframe tbody tr th {\n",
       "        vertical-align: top;\n",
       "    }\n",
       "\n",
       "    .dataframe thead th {\n",
       "        text-align: right;\n",
       "    }\n",
       "</style>\n",
       "<table border=\"1\" class=\"dataframe\">\n",
       "  <thead>\n",
       "    <tr style=\"text-align: right;\">\n",
       "      <th></th>\n",
       "      <th>100</th>\n",
       "      <th>500</th>\n",
       "      <th>1000</th>\n",
       "    </tr>\n",
       "  </thead>\n",
       "  <tbody>\n",
       "    <tr>\n",
       "      <th>3</th>\n",
       "      <td>1.31</td>\n",
       "      <td>1.57</td>\n",
       "      <td>6.93</td>\n",
       "    </tr>\n",
       "    <tr>\n",
       "      <th>7</th>\n",
       "      <td>1.22</td>\n",
       "      <td>5.71</td>\n",
       "      <td>31.09</td>\n",
       "    </tr>\n",
       "    <tr>\n",
       "      <th>15</th>\n",
       "      <td>1.43</td>\n",
       "      <td>24.40</td>\n",
       "      <td>95.92</td>\n",
       "    </tr>\n",
       "  </tbody>\n",
       "</table>\n",
       "</div>"
      ],
      "text/plain": [
       "    100   500   1000\n",
       "3   1.31  1.57  6.93\n",
       "7   1.22  5.71 31.09\n",
       "15  1.43 24.40 95.92"
      ]
     },
     "execution_count": 18,
     "metadata": {},
     "output_type": "execute_result"
    }
   ],
   "source": [
    "pd.options.display.float_format = \"{:.2f}\".format\n",
    "\n",
    "pd.DataFrame(all_res, index=list_K) # K / N"
   ]
  }
 ],
 "metadata": {
  "kernelspec": {
   "display_name": ".venv",
   "language": "python",
   "name": "python3"
  },
  "language_info": {
   "codemirror_mode": {
    "name": "ipython",
    "version": 3
   },
   "file_extension": ".py",
   "mimetype": "text/x-python",
   "name": "python",
   "nbconvert_exporter": "python",
   "pygments_lexer": "ipython3",
   "version": "3.12.6"
  }
 },
 "nbformat": 4,
 "nbformat_minor": 2
}
